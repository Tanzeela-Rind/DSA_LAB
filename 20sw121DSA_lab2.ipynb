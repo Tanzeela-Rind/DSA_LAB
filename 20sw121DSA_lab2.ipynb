{
  "nbformat": 4,
  "nbformat_minor": 0,
  "metadata": {
    "colab": {
      "provenance": [],
      "authorship_tag": "ABX9TyM06ZA+d1wt1oCcrPGyary/",
      "include_colab_link": true
    },
    "kernelspec": {
      "name": "python3",
      "display_name": "Python 3"
    },
    "language_info": {
      "name": "python"
    }
  },
  "cells": [
    {
      "cell_type": "markdown",
      "metadata": {
        "id": "view-in-github",
        "colab_type": "text"
      },
      "source": [
        "<a href=\"https://colab.research.google.com/github/Tanzeela-Rind/DSA_LAB/blob/main/20sw121DSA_lab2.ipynb\" target=\"_parent\"><img src=\"https://colab.research.google.com/assets/colab-badge.svg\" alt=\"Open In Colab\"/></a>"
      ]
    },
    {
      "cell_type": "code",
      "source": [
        "#TASK1\n",
        "prize = int(input())\n",
        "\n",
        "if prize >= 1 and prize <= 50:\n",
        "    print('Congratulations!!!! Wooden rabbit')\n",
        "elif prize > 50 and prize <= 150:\n",
        "    print('Try it againnn!!!! No prize')\n",
        "elif prize > 150 and prize <= 180:\n",
        "    print('Congratulations!!!! Wafer-thin mint')\n",
        "elif prize > 180 and prize <= 200:\n",
        "    print('Congratulations!!!! Penguin')\n",
        "else:\n",
        "    print('Ooh dear!!! No prize this time')\n",
        ""
      ],
      "metadata": {
        "colab": {
          "base_uri": "https://localhost:8080/"
        },
        "id": "JNNp1PrI97H5",
        "outputId": "191c35e0-a419-4751-a7ae-a08c975402a7"
      },
      "execution_count": 2,
      "outputs": [
        {
          "output_type": "stream",
          "name": "stdout",
          "text": [
            "8\n",
            "Congratulations!!!! Wooden rabbit\n"
          ]
        }
      ]
    },
    {
      "cell_type": "code",
      "source": [
        "#TASK 02\n",
        "answer = 42\n",
        "\n",
        "\n",
        "guess = int(input(\"Enter your guess: \"))\n",
        "\n",
        "\n",
        "if guess < answer:\n",
        "    print(\"Your guess is too low.\")\n",
        "elif guess > answer:\n",
        "    print(\"Your guess is too high.\")\n",
        "else:\n",
        "    print(\"Congratulations! Your guess is correct!\")"
      ],
      "metadata": {
        "colab": {
          "base_uri": "https://localhost:8080/"
        },
        "id": "eJWTrO9v9_Ym",
        "outputId": "89508c89-8e04-48f2-aa38-9d73b0a6b202"
      },
      "execution_count": 3,
      "outputs": [
        {
          "output_type": "stream",
          "name": "stdout",
          "text": [
            "Enter your guess: 78\n",
            "Your guess is too high.\n"
          ]
        }
      ]
    },
    {
      "cell_type": "code",
      "source": [
        "#TASK 03\n",
        "def calculate_tax(purchase_amount, state):\n",
        "    # Define tax rates for different states\n",
        "    tax_rates = {\n",
        "        'CA': 0.075,\n",
        "        'MN': 0.095,\n",
        "        'NY': 0.089\n",
        "    }\n",
        "\n",
        "    # Check if the state is in the tax_rates dictionary\n",
        "    if state in tax_rates:\n",
        "        tax_rate = tax_rates[state]\n",
        "        tax_amount = purchase_amount * tax_rate\n",
        "        total_amount = purchase_amount + tax_amount\n",
        "        print(f\"Purchase amount: ${purchase_amount:.2f}\")\n",
        "        print(f\"Tax rate in {state}: {tax_rate * 100:.1f}%\")\n",
        "        print(f\"Tax amount: ${tax_amount:.2f}\")\n",
        "        print(f\"Total amount after tax: ${total_amount:.2f}\")\n",
        "    else:\n",
        "        print(\"Invalid state. Please enter a valid state code (CA, MN, or NY).\")\n",
        "\n",
        "# Take user input for purchase amount and state\n",
        "purchase_amount = float(input(\"Enter the purchase amount: $\"))\n",
        "state = input(\"Enter your state (CA, MN, or NY): \")\n",
        "\n",
        "# Call the function to calculate tax\n",
        "calculate_tax(purchase_amount, state)\n",
        ""
      ],
      "metadata": {
        "colab": {
          "base_uri": "https://localhost:8080/"
        },
        "id": "4fXaCZpE-zru",
        "outputId": "6c710883-7f96-448f-f6fb-dbb2f69489ef"
      },
      "execution_count": 5,
      "outputs": [
        {
          "output_type": "stream",
          "name": "stdout",
          "text": [
            "Enter the purchase amount: $68\n",
            "Enter your state (CA, MN, or NY): CA\n",
            "Purchase amount: $68.00\n",
            "Tax rate in CA: 7.5%\n",
            "Tax amount: $5.10\n",
            "Total amount after tax: $73.10\n"
          ]
        }
      ]
    },
    {
      "cell_type": "code",
      "source": [
        "#TASK 04\n",
        "my_list = [1, 2, 3, 4, 5]\n",
        "\n",
        "\n",
        "for element in my_list:\n",
        "    print(element)"
      ],
      "metadata": {
        "colab": {
          "base_uri": "https://localhost:8080/"
        },
        "id": "ON6K1Y8o_LYn",
        "outputId": "154c5edb-a86f-4801-e7ce-d7885c6dd7d1"
      },
      "execution_count": 6,
      "outputs": [
        {
          "output_type": "stream",
          "name": "stdout",
          "text": [
            "1\n",
            "2\n",
            "3\n",
            "4\n",
            "5\n"
          ]
        }
      ]
    },
    {
      "cell_type": "code",
      "source": [
        "#TASK05\n",
        "for number in range(5, 31, 5):\n",
        "    print(number)"
      ],
      "metadata": {
        "colab": {
          "base_uri": "https://localhost:8080/"
        },
        "id": "p-Tp-Bg__PcM",
        "outputId": "477b243f-b42d-4c1c-b6dc-767b5388c4bd"
      },
      "execution_count": 7,
      "outputs": [
        {
          "output_type": "stream",
          "name": "stdout",
          "text": [
            "5\n",
            "10\n",
            "15\n",
            "20\n",
            "25\n",
            "30\n"
          ]
        }
      ]
    },
    {
      "cell_type": "code",
      "source": [
        "#TASK 06\n",
        "names = [\"John Doe\", \"Alice Smith\", \"Mike Johnson\", \"Emma Brown\"]\n",
        "\n",
        "\n",
        "first_names = [name.split()[0].lower() for name in names]\n",
        "\n",
        "\n",
        "print(first_names)"
      ],
      "metadata": {
        "colab": {
          "base_uri": "https://localhost:8080/"
        },
        "id": "g6mAEUgq_TbS",
        "outputId": "00774b48-eac9-433a-a113-2e0237f0eac5"
      },
      "execution_count": 8,
      "outputs": [
        {
          "output_type": "stream",
          "name": "stdout",
          "text": [
            "['john', 'alice', 'mike', 'emma']\n"
          ]
        }
      ]
    },
    {
      "cell_type": "code",
      "source": [
        "#TASK 07\n",
        "multiples_3 = [num * 3 for num in range(1, 21)]\n",
        "print(multiples_3)\n",
        ""
      ],
      "metadata": {
        "colab": {
          "base_uri": "https://localhost:8080/"
        },
        "id": "_Er6bmdL_ZNh",
        "outputId": "db55a9de-a345-4291-84b9-7fea5e290b51"
      },
      "execution_count": 12,
      "outputs": [
        {
          "output_type": "stream",
          "name": "stdout",
          "text": [
            "[3, 6, 9, 12, 15, 18, 21, 24, 27, 30, 33, 36, 39, 42, 45, 48, 51, 54, 57, 60]\n"
          ]
        }
      ]
    },
    {
      "cell_type": "code",
      "source": [
        "#TASK 08\n",
        "scores = {\"Rick Sanchez\": 70, \"Morty Smith\": 35, \"Summer Smith\": 82, \"Jerry Smith\": 23, \"Beth Smith\": 98}\n",
        "passed = [name for name, score in scores.items() if score >= 65]\n",
        "print(passed)"
      ],
      "metadata": {
        "colab": {
          "base_uri": "https://localhost:8080/"
        },
        "id": "EP5HGSIF_bw_",
        "outputId": "1e55187d-7705-42bf-9f0f-47c8e9ca2c82"
      },
      "execution_count": 11,
      "outputs": [
        {
          "output_type": "stream",
          "name": "stdout",
          "text": [
            "['Rick Sanchez', 'Summer Smith', 'Beth Smith']\n"
          ]
        }
      ]
    },
    {
      "cell_type": "code",
      "source": [
        "#TASK 09\n",
        "names = [\"Alice\", \"Bob\", \"Charlie\", \"David\", \"Eva\"]\n",
        "heights = [165, 180, 175, 170, 160]\n",
        "\n",
        "cast = dict(zip(names, heights))\n",
        "\n",
        "print(cast)"
      ],
      "metadata": {
        "colab": {
          "base_uri": "https://localhost:8080/"
        },
        "id": "tZdvWTkp_e-T",
        "outputId": "6a08fa29-a169-45e5-eedc-8ab3768d0af7"
      },
      "execution_count": 10,
      "outputs": [
        {
          "output_type": "stream",
          "name": "stdout",
          "text": [
            "{'Alice': 165, 'Bob': 180, 'Charlie': 175, 'David': 170, 'Eva': 160}\n"
          ]
        }
      ]
    },
    {
      "cell_type": "code",
      "source": [
        "\n",
        "#TASK 10\n",
        "cast = {'Alice': 165, 'Bob': 180, 'Charlie': 175, 'David': 170, 'Eva': 160}\n",
        "\n",
        "modified_cast = [name + str(height) for name, height in cast.items()]\n",
        "\n",
        "print(modified_cast)"
      ],
      "metadata": {
        "colab": {
          "base_uri": "https://localhost:8080/"
        },
        "id": "sqdjrROZ_hNe",
        "outputId": "edc1c9d9-979b-4a72-a2fa-a50c4c2c34a9"
      },
      "execution_count": 9,
      "outputs": [
        {
          "output_type": "stream",
          "name": "stdout",
          "text": [
            "['Alice165', 'Bob180', 'Charlie175', 'David170', 'Eva160']\n"
          ]
        }
      ]
    }
  ]
}