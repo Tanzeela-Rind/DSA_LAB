{
  "nbformat": 4,
  "nbformat_minor": 0,
  "metadata": {
    "colab": {
      "provenance": [],
      "authorship_tag": "ABX9TyP6wZofgsIClYYSfdEFBJh9",
      "include_colab_link": true
    },
    "kernelspec": {
      "name": "python3",
      "display_name": "Python 3"
    },
    "language_info": {
      "name": "python"
    }
  },
  "cells": [
    {
      "cell_type": "markdown",
      "metadata": {
        "id": "view-in-github",
        "colab_type": "text"
      },
      "source": [
        "<a href=\"https://colab.research.google.com/github/Tanzeela-Rind/DSA_LAB/blob/main/20sw121_DSA_LAB2.ipynb\" target=\"_parent\"><img src=\"https://colab.research.google.com/assets/colab-badge.svg\" alt=\"Open In Colab\"/></a>"
      ]
    },
    {
      "cell_type": "code",
      "execution_count": 1,
      "metadata": {
        "colab": {
          "base_uri": "https://localhost:8080/"
        },
        "id": "F3kXoRxgCfRV",
        "outputId": "3218e4b5-dadc-454e-9c45-4b5401779235"
      },
      "outputs": [
        {
          "output_type": "stream",
          "name": "stdout",
          "text": [
            "The value of variable1 is 10 and the value of variable2 is 'Hello'.\n"
          ]
        }
      ],
      "source": [
        "variable1 = 10\n",
        "variable2 = \"Hello\"\n",
        "\n",
        "print(\"The value of variable1 is {} and the value of variable2 is '{}'.\".format(variable1, variable2))"
      ]
    },
    {
      "cell_type": "code",
      "source": [
        "string = \"hello world\"\n",
        "capitalized_string = string.capitalize()\n",
        "print(capitalized_string)\n",
        "\n",
        "\n",
        "string = \"hello world\"\n",
        "count = string.count(\"o\")\n",
        "print(count)\n",
        "\n",
        "\n",
        "string = \"Hello world\"\n",
        "ends_with_world = string.endswith(\"world\")\n",
        "print(ends_with_world)\n",
        "\n",
        "\n",
        "string = \"Hello world\"\n",
        "index = string.find(\"o\")\n",
        "print(index)\n",
        "\n",
        "\n",
        "\n",
        "name = \"Alice\"\n",
        "age = 25\n",
        "formatted_string = \"My name is {} and I'm {} years old.\".format(name, age)\n",
        "print(formatted_string)"
      ],
      "metadata": {
        "colab": {
          "base_uri": "https://localhost:8080/"
        },
        "id": "0deKQ48sClnz",
        "outputId": "1d46fc3b-9e0e-40ea-c191-6015695957cf"
      },
      "execution_count": 5,
      "outputs": [
        {
          "output_type": "stream",
          "name": "stdout",
          "text": [
            "Hello world\n",
            "2\n",
            "True\n",
            "4\n",
            "My name is Alice and I'm 25 years old.\n"
          ]
        }
      ]
    },
    {
      "cell_type": "code",
      "source": [
        "month = 8\n",
        "days_in_month = [31, 28, 31, 30, 31, 30, 31, 31, 30, 31, 30, 31]\n",
        "\n",
        "# Use list indexing to determine the number of days in the month\n",
        "num_days = days_in_month[month - 1]\n",
        "\n",
        "# Print the result\n",
        "print(num_days)\n"
      ],
      "metadata": {
        "colab": {
          "base_uri": "https://localhost:8080/"
        },
        "id": "1KkJRK-mCqoT",
        "outputId": "8158bda4-a6bb-4b0e-b7fd-399fc9168bc0"
      },
      "execution_count": 4,
      "outputs": [
        {
          "output_type": "stream",
          "name": "stdout",
          "text": [
            "31\n"
          ]
        }
      ]
    },
    {
      "cell_type": "code",
      "source": [
        "eclipse_dates = ['June 21, 2001', 'December 4, 2002', 'November 23, 2003', 'March 29, 2006', 'August 1, 2008', 'July 22, 2009', 'July 11, 2010', 'November 13, 2012', 'March 20, 2015', 'March 9, 2016']\n",
        "\n",
        "# Select the last three elements of the list using list slicing\n",
        "recent_dates = eclipse_dates[-3:]\n",
        "\n",
        "# Print the recent dates\n",
        "print(recent_dates)\n"
      ],
      "metadata": {
        "colab": {
          "base_uri": "https://localhost:8080/"
        },
        "id": "n9fakaCeCuDQ",
        "outputId": "eb4571f7-f53e-4ba6-e748-c0d483e09ad7"
      },
      "execution_count": 3,
      "outputs": [
        {
          "output_type": "stream",
          "name": "stdout",
          "text": [
            "['November 13, 2012', 'March 20, 2015', 'March 9, 2016']\n"
          ]
        }
      ]
    },
    {
      "cell_type": "code",
      "source": [
        "students = {\n",
        "    \"John\": {\n",
        "        \"age\": 20,\n",
        "        \"major\": \"Computer Science\",\n",
        "        \"gpa\": 3.5\n",
        "    },\n",
        "    \"Emily\": {\n",
        "        \"age\": 19,\n",
        "        \"major\": \"Biology\",\n",
        "        \"gpa\": 3.8\n",
        "    },\n",
        "    \"Michael\": {\n",
        "        \"age\": 21,\n",
        "        \"major\": \"Mathematics\",\n",
        "        \"gpa\": 3.2\n",
        "    }\n",
        "}\n",
        "print(students)\n",
        "print(students.keys());"
      ],
      "metadata": {
        "colab": {
          "base_uri": "https://localhost:8080/"
        },
        "id": "yDHSI483C1YS",
        "outputId": "2a14e09b-e01b-49d9-f93b-b1a7f5e6ef12"
      },
      "execution_count": 2,
      "outputs": [
        {
          "output_type": "stream",
          "name": "stdout",
          "text": [
            "{'John': {'age': 20, 'major': 'Computer Science', 'gpa': 3.5}, 'Emily': {'age': 19, 'major': 'Biology', 'gpa': 3.8}, 'Michael': {'age': 21, 'major': 'Mathematics', 'gpa': 3.2}}\n",
            "dict_keys(['John', 'Emily', 'Michael'])\n"
          ]
        }
      ]
    },
    {
      "cell_type": "code",
      "source": [],
      "metadata": {
        "id": "qqai2cEFC5EM"
      },
      "execution_count": null,
      "outputs": []
    }
  ]
}
